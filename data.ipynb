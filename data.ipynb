{
 "cells": [
  {
   "cell_type": "code",
   "execution_count": null,
   "id": "0",
   "metadata": {},
   "outputs": [],
   "source": [
    "from PIL import Image\n",
    "from pathlib import Path\n",
    "import seaborn as sns\n",
    "import numpy as np\n",
    "import matplotlib.pyplot as plt\n",
    "\n",
    "sns.set_style(\"whitegrid\")"
   ]
  },
  {
   "cell_type": "code",
   "execution_count": null,
   "id": "1",
   "metadata": {},
   "outputs": [],
   "source": [
    "sizes = []\n",
    "data = {\n",
    "    \"classes\": [],\n",
    "    \"size\": [],\n",
    "}\n",
    "\n",
    "for image_dir in Path(\"data/images\").iterdir():\n",
    "    data[\"classes\"].append(image_dir.name)\n",
    "    data[\"size\"].append(len(list(image_dir.iterdir())))\n",
    "    for image_file in image_dir.iterdir():\n",
    "        image = Image.open(image_file)\n",
    "        sizes.append(image.size)\n",
    "        \n",
    "sizes = np.array(sizes)"
   ]
  },
  {
   "cell_type": "code",
   "execution_count": null,
   "id": "2",
   "metadata": {},
   "outputs": [],
   "source": [
    "sizes.shape"
   ]
  },
  {
   "cell_type": "code",
   "execution_count": null,
   "id": "3",
   "metadata": {},
   "outputs": [],
   "source": [
    "sns.barplot(y=data[\"classes\"], x=data[\"size\"], orient='h')\n",
    "plt.xlabel(\"Количество (ед.)\")\n",
    "plt.show()"
   ]
  },
  {
   "cell_type": "code",
   "execution_count": null,
   "id": "4",
   "metadata": {},
   "outputs": [],
   "source": [
    "sns.histplot(x=sizes[:, 0], y=sizes[:, 1], bins=15, cbar=True, cmap=\"viridis\")\n",
    "plt.xlabel(\"Ширина (px)\")\n",
    "plt.ylabel(\"Высота (px)\")\n",
    "plt.grid(alpha=0.6)\n",
    "plt.show()"
   ]
  }
 ],
 "metadata": {
  "kernelspec": {
   "display_name": ".venv",
   "language": "python",
   "name": "python3"
  },
  "language_info": {
   "codemirror_mode": {
    "name": "ipython",
    "version": 3
   },
   "file_extension": ".py",
   "mimetype": "text/x-python",
   "name": "python",
   "nbconvert_exporter": "python",
   "pygments_lexer": "ipython3",
   "version": "3.13.3"
  }
 },
 "nbformat": 4,
 "nbformat_minor": 5
}
