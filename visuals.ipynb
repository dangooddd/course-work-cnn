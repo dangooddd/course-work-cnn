{
 "cells": [
  {
   "cell_type": "code",
   "execution_count": null,
   "id": "0",
   "metadata": {},
   "outputs": [],
   "source": [
    "import torch\n",
    "import matplotlib.pyplot as plt\n",
    "from PIL import Image\n",
    "from pathlib import Path\n",
    "from utils import get_transforms, get_model, get_last_layer\n",
    "from cnn import run_model, apply_gradcam\n",
    "\n",
    "plt.style.use(\"ggplot\")"
   ]
  },
  {
   "cell_type": "code",
   "execution_count": null,
   "id": "1",
   "metadata": {},
   "outputs": [],
   "source": [
    "MODEL = \"cvgg13\""
   ]
  },
  {
   "cell_type": "markdown",
   "id": "2",
   "metadata": {},
   "source": [
    "### Визуализация работы модели"
   ]
  },
  {
   "cell_type": "code",
   "execution_count": null,
   "id": "3",
   "metadata": {},
   "outputs": [],
   "source": [
    "images_dir = Path(\"data/gradcam_images/ref\")\n",
    "transform = get_transforms()\n",
    "device = \"cuda\" if torch.cuda.is_available() else \"cpu\"\n",
    "model = get_model(MODEL).to(device)\n",
    "model.load_state_dict(torch.load(f\"data/weights/{MODEL}.pt\"))\n",
    "layer = get_last_layer(model, MODEL)\n",
    "\n",
    "inputs = []\n",
    "outputs = []\n",
    "\n",
    "\n",
    "for i, path in enumerate(images_dir.iterdir()):\n",
    "    image = transform(Image.open(path))\n",
    "    label = path.stem\n",
    "    inputs.append((image, label))\n",
    "\n",
    "    gradcam_image = apply_gradcam(model, device, image, layer)\n",
    "    prediction = run_model(model, device, image)[0]\n",
    "    outputs.append((gradcam_image, prediction))"
   ]
  },
  {
   "cell_type": "code",
   "execution_count": null,
   "id": "4",
   "metadata": {},
   "outputs": [],
   "source": [
    "def visualize(inputs, outputs):\n",
    "    n = len(inputs)\n",
    "    fig, axes = plt.subplots(2, n)\n",
    "\n",
    "    for ax in axes.flat:\n",
    "        ax.axis(\"off\")\n",
    "\n",
    "    for i in range(n):\n",
    "        image, label = inputs[i]\n",
    "        gradcam_image, prediction = outputs[i]\n",
    "\n",
    "        axes.flat[i].imshow(image)\n",
    "        axes.flat[i].set_title(label)\n",
    "        axes.flat[i + n].imshow(gradcam_image)\n",
    "        axes.flat[i + n].set_title(prediction)\n",
    "\n",
    "    axes[0, 0].annotate(\n",
    "        \"Вход\",\n",
    "        xy=(-0.3, 0.5),\n",
    "        xycoords=\"axes fraction\",\n",
    "        rotation=90,\n",
    "        va=\"center\",\n",
    "        fontsize=12,\n",
    "    )\n",
    "\n",
    "    axes[1, 0].annotate(\n",
    "        \"Выход\",\n",
    "        xy=(-0.3, 0.5),\n",
    "        xycoords=\"axes fraction\",\n",
    "        rotation=90,\n",
    "        va=\"center\",\n",
    "        fontsize=12,\n",
    "    )\n",
    "\n",
    "    plt.tight_layout()\n",
    "    plt.subplots_adjust(hspace=-0.5)\n",
    "    plt.show()"
   ]
  },
  {
   "cell_type": "code",
   "execution_count": null,
   "id": "5",
   "metadata": {},
   "outputs": [],
   "source": [
    "visualize(inputs[:5], outputs[:5])"
   ]
  },
  {
   "cell_type": "code",
   "execution_count": null,
   "id": "6",
   "metadata": {},
   "outputs": [],
   "source": [
    "visualize(inputs[5:], outputs[5:])"
   ]
  },
  {
   "cell_type": "markdown",
   "id": "7",
   "metadata": {},
   "source": [
    "### Метрики"
   ]
  },
  {
   "cell_type": "code",
   "execution_count": null,
   "id": "8",
   "metadata": {},
   "outputs": [],
   "source": [
    "import polars as pl\n",
    "import seaborn as sns\n",
    "\n",
    "sns.set_style(\"whitegrid\")"
   ]
  },
  {
   "cell_type": "code",
   "execution_count": null,
   "id": "9",
   "metadata": {},
   "outputs": [],
   "source": [
    "test = pl.read_csv(f\"data/csv/f1_test_{MODEL}.csv\")\n",
    "train = pl.read_csv(f\"data/csv/f1_train_{MODEL}.csv\")"
   ]
  },
  {
   "cell_type": "code",
   "execution_count": null,
   "id": "10",
   "metadata": {},
   "outputs": [],
   "source": [
    "sns.lineplot(test, x=\"Step\", y=\"Value\", label=\"test\")\n",
    "sns.lineplot(train, x=\"Step\", y=\"Value\", label=\"train\")\n",
    "plt.title(\"Точность модели\")\n",
    "plt.xlabel(\"Эпоха\")\n",
    "plt.ylabel(\"Точность\")\n",
    "plt.show()"
   ]
  }
 ],
 "metadata": {
  "kernelspec": {
   "display_name": ".venv",
   "language": "python",
   "name": "python3"
  },
  "language_info": {
   "codemirror_mode": {
    "name": "ipython",
    "version": 3
   },
   "file_extension": ".py",
   "mimetype": "text/x-python",
   "name": "python",
   "nbconvert_exporter": "python",
   "pygments_lexer": "ipython3",
   "version": "3.13.3"
  }
 },
 "nbformat": 4,
 "nbformat_minor": 5
}
